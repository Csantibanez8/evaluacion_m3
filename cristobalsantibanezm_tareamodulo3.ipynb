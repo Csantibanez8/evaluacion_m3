{
 "cells": [
  {
   "cell_type": "markdown",
   "id": "bc2ae9ec",
   "metadata": {},
   "source": [
    "¿Qué tan probable es que no se presente a su cita médica?"
   ]
  },
  {
   "cell_type": "code",
   "execution_count": null,
   "id": "9d482ca9",
   "metadata": {},
   "outputs": [],
   "source": [
    "#Se importan las librerias\n",
    "\n",
    "import pandas as pd\n",
    "import numpy as np\n",
    "import matplotlib.pyplot as plt\n",
    "import seaborn as sns\n",
    "import datetime\n",
    "from time import strftime"
   ]
  },
  {
   "cell_type": "code",
   "execution_count": null,
   "id": "0652d8d7",
   "metadata": {},
   "outputs": [
    {
     "name": "stdout",
     "output_type": "stream",
     "text": [
      "<class 'pandas.core.frame.DataFrame'>\n",
      "RangeIndex: 110527 entries, 0 to 110526\n",
      "Data columns (total 14 columns):\n",
      " #   Column          Non-Null Count   Dtype  \n",
      "---  ------          --------------   -----  \n",
      " 0   PatientId       110527 non-null  float64\n",
      " 1   AppointmentID   110527 non-null  int64  \n",
      " 2   Gender          110527 non-null  object \n",
      " 3   ScheduledDay    110527 non-null  object \n",
      " 4   AppointmentDay  110527 non-null  object \n",
      " 5   Age             110527 non-null  int64  \n",
      " 6   Neighbourhood   110527 non-null  object \n",
      " 7   Scholarship     110527 non-null  int64  \n",
      " 8   Hipertension    110527 non-null  int64  \n",
      " 9   Diabetes        110527 non-null  int64  \n",
      " 10  Alcoholism      110527 non-null  int64  \n",
      " 11  Handcap         110527 non-null  int64  \n",
      " 12  SMS_received    110527 non-null  int64  \n",
      " 13  No-show         110527 non-null  object \n",
      "dtypes: float64(1), int64(8), object(5)\n",
      "memory usage: 11.8+ MB\n"
     ]
    }
   ],
   "source": [
    "# Cargamos el archivo y lo asignamos a la variable \"df\"\n",
    "nsp = pd.read_csv(\"/home/cris/Proyectos/evaluacion_m3/data/KaggleV2-May-2016.csv\")\n",
    "\n",
    "#Exploramos el DataFrame\n",
    "nsp.info()"
   ]
  },
  {
   "cell_type": "code",
   "execution_count": 44,
   "id": "dcdd6d30",
   "metadata": {},
   "outputs": [
    {
     "name": "stdout",
     "output_type": "stream",
     "text": [
      "Gender                    object\n",
      "ScheduledDay      datetime64[ns]\n",
      "AppointmentDay    datetime64[ns]\n",
      "Age                        int64\n",
      "Neighbourhood             object\n",
      "Scholarship                int64\n",
      "Hipertension               int64\n",
      "Diabetes                   int64\n",
      "Alcoholism                 int64\n",
      "Handicap                   int64\n",
      "SMSReceived                int64\n",
      "NoShow                    object\n",
      "dtype: object\n"
     ]
    },
    {
     "data": {
      "text/html": [
       "<div>\n",
       "<style scoped>\n",
       "    .dataframe tbody tr th:only-of-type {\n",
       "        vertical-align: middle;\n",
       "    }\n",
       "\n",
       "    .dataframe tbody tr th {\n",
       "        vertical-align: top;\n",
       "    }\n",
       "\n",
       "    .dataframe thead th {\n",
       "        text-align: right;\n",
       "    }\n",
       "</style>\n",
       "<table border=\"1\" class=\"dataframe\">\n",
       "  <thead>\n",
       "    <tr style=\"text-align: right;\">\n",
       "      <th></th>\n",
       "      <th>Gender</th>\n",
       "      <th>ScheduledDay</th>\n",
       "      <th>AppointmentDay</th>\n",
       "      <th>Age</th>\n",
       "      <th>Neighbourhood</th>\n",
       "      <th>Scholarship</th>\n",
       "      <th>Hipertension</th>\n",
       "      <th>Diabetes</th>\n",
       "      <th>Alcoholism</th>\n",
       "      <th>Handicap</th>\n",
       "      <th>SMSReceived</th>\n",
       "      <th>NoShow</th>\n",
       "    </tr>\n",
       "  </thead>\n",
       "  <tbody>\n",
       "    <tr>\n",
       "      <th>41343</th>\n",
       "      <td>F</td>\n",
       "      <td>2016-04-29</td>\n",
       "      <td>2016-05-24</td>\n",
       "      <td>17</td>\n",
       "      <td>MARIA ORTIZ</td>\n",
       "      <td>0</td>\n",
       "      <td>0</td>\n",
       "      <td>0</td>\n",
       "      <td>0</td>\n",
       "      <td>0</td>\n",
       "      <td>1</td>\n",
       "      <td>No</td>\n",
       "    </tr>\n",
       "    <tr>\n",
       "      <th>5226</th>\n",
       "      <td>F</td>\n",
       "      <td>2016-05-20</td>\n",
       "      <td>2016-05-30</td>\n",
       "      <td>30</td>\n",
       "      <td>BENTO FERREIRA</td>\n",
       "      <td>0</td>\n",
       "      <td>0</td>\n",
       "      <td>0</td>\n",
       "      <td>0</td>\n",
       "      <td>0</td>\n",
       "      <td>1</td>\n",
       "      <td>No</td>\n",
       "    </tr>\n",
       "    <tr>\n",
       "      <th>28852</th>\n",
       "      <td>M</td>\n",
       "      <td>2016-05-06</td>\n",
       "      <td>2016-05-24</td>\n",
       "      <td>13</td>\n",
       "      <td>JUCUTUQUARA</td>\n",
       "      <td>0</td>\n",
       "      <td>0</td>\n",
       "      <td>0</td>\n",
       "      <td>0</td>\n",
       "      <td>0</td>\n",
       "      <td>1</td>\n",
       "      <td>No</td>\n",
       "    </tr>\n",
       "    <tr>\n",
       "      <th>40068</th>\n",
       "      <td>F</td>\n",
       "      <td>2016-05-19</td>\n",
       "      <td>2016-05-19</td>\n",
       "      <td>14</td>\n",
       "      <td>NOVA PALESTINA</td>\n",
       "      <td>0</td>\n",
       "      <td>0</td>\n",
       "      <td>0</td>\n",
       "      <td>0</td>\n",
       "      <td>0</td>\n",
       "      <td>0</td>\n",
       "      <td>No</td>\n",
       "    </tr>\n",
       "    <tr>\n",
       "      <th>57941</th>\n",
       "      <td>F</td>\n",
       "      <td>2016-05-19</td>\n",
       "      <td>2016-05-19</td>\n",
       "      <td>35</td>\n",
       "      <td>NOVA PALESTINA</td>\n",
       "      <td>0</td>\n",
       "      <td>0</td>\n",
       "      <td>0</td>\n",
       "      <td>0</td>\n",
       "      <td>0</td>\n",
       "      <td>0</td>\n",
       "      <td>No</td>\n",
       "    </tr>\n",
       "  </tbody>\n",
       "</table>\n",
       "</div>"
      ],
      "text/plain": [
       "      Gender ScheduledDay AppointmentDay  Age   Neighbourhood  Scholarship  \\\n",
       "41343      F   2016-04-29     2016-05-24   17     MARIA ORTIZ            0   \n",
       "5226       F   2016-05-20     2016-05-30   30  BENTO FERREIRA            0   \n",
       "28852      M   2016-05-06     2016-05-24   13     JUCUTUQUARA            0   \n",
       "40068      F   2016-05-19     2016-05-19   14  NOVA PALESTINA            0   \n",
       "57941      F   2016-05-19     2016-05-19   35  NOVA PALESTINA            0   \n",
       "\n",
       "       Hipertension  Diabetes  Alcoholism  Handicap  SMSReceived NoShow  \n",
       "41343             0         0           0         0            1     No  \n",
       "5226              0         0           0         0            1     No  \n",
       "28852             0         0           0         0            1     No  \n",
       "40068             0         0           0         0            0     No  \n",
       "57941             0         0           0         0            0     No  "
      ]
     },
     "execution_count": 44,
     "metadata": {},
     "output_type": "execute_result"
    }
   ],
   "source": [
    "print(nsp.dtypes)\n",
    "\n",
    "nsp.sample(5)"
   ]
  },
  {
   "cell_type": "markdown",
   "id": "c5cf860f",
   "metadata": {},
   "source": [
    "Se observan algunas inconsistencias en los datos, por ejemplo\n",
    "PatientID es un tipo de variable Float\n",
    "Las fechas (\"ScheduledDay\" y \"AppointmentDay\") están en \"object type\"\n",
    "Se corregirán algunos nombres de las columnas"
   ]
  },
  {
   "cell_type": "code",
   "execution_count": 24,
   "id": "b6743675",
   "metadata": {},
   "outputs": [],
   "source": [
    "# Convertiremos la variable \"PatientID\" de Float a Int\n",
    "nsp[\"PatientId\"] = nsp[\"PatientId\"].astype(\"int64\")\n",
    "\n",
    "# Convertiremos ScheduledDay y AppointmentDay a datetime64\n",
    "nsp[\"ScheduledDay\"] = pd.to_datetime(nsp[\"ScheduledDay\"]).dt.date.astype(\"datetime64[ns]\")\n",
    "nsp[\"AppointmentDay\"] = pd.to_datetime(nsp[\"AppointmentDay\"]).dt.date.astype(\"datetime64[ns]\")\n",
    "\n",
    "# Correción de nombres de columnas\n",
    "nsp = nsp.rename(columns={\"Handcap\":\"Handicap\", \"SMS_received\":\"SMSReceived\", \"No-show\":\"NoShow\"})"
   ]
  },
  {
   "cell_type": "code",
   "execution_count": 39,
   "id": "26dffcc2",
   "metadata": {},
   "outputs": [
    {
     "name": "stdout",
     "output_type": "stream",
     "text": [
      "<class 'pandas.core.frame.DataFrame'>\n",
      "RangeIndex: 110527 entries, 0 to 110526\n",
      "Data columns (total 12 columns):\n",
      " #   Column          Non-Null Count   Dtype         \n",
      "---  ------          --------------   -----         \n",
      " 0   Gender          110527 non-null  object        \n",
      " 1   ScheduledDay    110527 non-null  datetime64[ns]\n",
      " 2   AppointmentDay  110527 non-null  datetime64[ns]\n",
      " 3   Age             110527 non-null  int64         \n",
      " 4   Neighbourhood   110527 non-null  object        \n",
      " 5   Scholarship     110527 non-null  int64         \n",
      " 6   Hipertension    110527 non-null  int64         \n",
      " 7   Diabetes        110527 non-null  int64         \n",
      " 8   Alcoholism      110527 non-null  int64         \n",
      " 9   Handicap        110527 non-null  int64         \n",
      " 10  SMSReceived     110527 non-null  int64         \n",
      " 11  NoShow          110527 non-null  object        \n",
      "dtypes: datetime64[ns](2), int64(7), object(3)\n",
      "memory usage: 10.1+ MB\n"
     ]
    },
    {
     "data": {
      "text/html": [
       "<div>\n",
       "<style scoped>\n",
       "    .dataframe tbody tr th:only-of-type {\n",
       "        vertical-align: middle;\n",
       "    }\n",
       "\n",
       "    .dataframe tbody tr th {\n",
       "        vertical-align: top;\n",
       "    }\n",
       "\n",
       "    .dataframe thead th {\n",
       "        text-align: right;\n",
       "    }\n",
       "</style>\n",
       "<table border=\"1\" class=\"dataframe\">\n",
       "  <thead>\n",
       "    <tr style=\"text-align: right;\">\n",
       "      <th></th>\n",
       "      <th>Gender</th>\n",
       "      <th>ScheduledDay</th>\n",
       "      <th>AppointmentDay</th>\n",
       "      <th>Age</th>\n",
       "      <th>Neighbourhood</th>\n",
       "      <th>Scholarship</th>\n",
       "      <th>Hipertension</th>\n",
       "      <th>Diabetes</th>\n",
       "      <th>Alcoholism</th>\n",
       "      <th>Handicap</th>\n",
       "      <th>SMSReceived</th>\n",
       "      <th>NoShow</th>\n",
       "    </tr>\n",
       "  </thead>\n",
       "  <tbody>\n",
       "    <tr>\n",
       "      <th>0</th>\n",
       "      <td>F</td>\n",
       "      <td>2016-04-29</td>\n",
       "      <td>2016-04-29</td>\n",
       "      <td>62</td>\n",
       "      <td>JARDIM DA PENHA</td>\n",
       "      <td>0</td>\n",
       "      <td>1</td>\n",
       "      <td>0</td>\n",
       "      <td>0</td>\n",
       "      <td>0</td>\n",
       "      <td>0</td>\n",
       "      <td>No</td>\n",
       "    </tr>\n",
       "    <tr>\n",
       "      <th>1</th>\n",
       "      <td>M</td>\n",
       "      <td>2016-04-29</td>\n",
       "      <td>2016-04-29</td>\n",
       "      <td>56</td>\n",
       "      <td>JARDIM DA PENHA</td>\n",
       "      <td>0</td>\n",
       "      <td>0</td>\n",
       "      <td>0</td>\n",
       "      <td>0</td>\n",
       "      <td>0</td>\n",
       "      <td>0</td>\n",
       "      <td>No</td>\n",
       "    </tr>\n",
       "    <tr>\n",
       "      <th>2</th>\n",
       "      <td>F</td>\n",
       "      <td>2016-04-29</td>\n",
       "      <td>2016-04-29</td>\n",
       "      <td>62</td>\n",
       "      <td>MATA DA PRAIA</td>\n",
       "      <td>0</td>\n",
       "      <td>0</td>\n",
       "      <td>0</td>\n",
       "      <td>0</td>\n",
       "      <td>0</td>\n",
       "      <td>0</td>\n",
       "      <td>No</td>\n",
       "    </tr>\n",
       "    <tr>\n",
       "      <th>3</th>\n",
       "      <td>F</td>\n",
       "      <td>2016-04-29</td>\n",
       "      <td>2016-04-29</td>\n",
       "      <td>8</td>\n",
       "      <td>PONTAL DE CAMBURI</td>\n",
       "      <td>0</td>\n",
       "      <td>0</td>\n",
       "      <td>0</td>\n",
       "      <td>0</td>\n",
       "      <td>0</td>\n",
       "      <td>0</td>\n",
       "      <td>No</td>\n",
       "    </tr>\n",
       "    <tr>\n",
       "      <th>4</th>\n",
       "      <td>F</td>\n",
       "      <td>2016-04-29</td>\n",
       "      <td>2016-04-29</td>\n",
       "      <td>56</td>\n",
       "      <td>JARDIM DA PENHA</td>\n",
       "      <td>0</td>\n",
       "      <td>1</td>\n",
       "      <td>1</td>\n",
       "      <td>0</td>\n",
       "      <td>0</td>\n",
       "      <td>0</td>\n",
       "      <td>No</td>\n",
       "    </tr>\n",
       "  </tbody>\n",
       "</table>\n",
       "</div>"
      ],
      "text/plain": [
       "  Gender ScheduledDay AppointmentDay  Age      Neighbourhood  Scholarship  \\\n",
       "0      F   2016-04-29     2016-04-29   62    JARDIM DA PENHA            0   \n",
       "1      M   2016-04-29     2016-04-29   56    JARDIM DA PENHA            0   \n",
       "2      F   2016-04-29     2016-04-29   62      MATA DA PRAIA            0   \n",
       "3      F   2016-04-29     2016-04-29    8  PONTAL DE CAMBURI            0   \n",
       "4      F   2016-04-29     2016-04-29   56    JARDIM DA PENHA            0   \n",
       "\n",
       "   Hipertension  Diabetes  Alcoholism  Handicap  SMSReceived NoShow  \n",
       "0             1         0           0         0            0     No  \n",
       "1             0         0           0         0            0     No  \n",
       "2             0         0           0         0            0     No  \n",
       "3             0         0           0         0            0     No  \n",
       "4             1         1           0         0            0     No  "
      ]
     },
     "execution_count": 39,
     "metadata": {},
     "output_type": "execute_result"
    }
   ],
   "source": [
    "# Comprobaremos los cambios realizados\n",
    "nsp.info()\n",
    "\n",
    "nsp.head()"
   ]
  },
  {
   "cell_type": "code",
   "execution_count": null,
   "id": "e7510cc9",
   "metadata": {},
   "outputs": [
    {
     "data": {
      "text/plain": [
       "Index(['Gender', 'ScheduledDay', 'AppointmentDay', 'Age', 'Neighbourhood',\n",
       "       'Scholarship', 'Hipertension', 'Diabetes', 'Alcoholism', 'Handicap',\n",
       "       'SMSReceived', 'NoShow'],\n",
       "      dtype='object')"
      ]
     },
     "execution_count": 41,
     "metadata": {},
     "output_type": "execute_result"
    }
   ],
   "source": [
    "nsp.columns"
   ]
  },
  {
   "cell_type": "markdown",
   "id": "ef2745d8",
   "metadata": {},
   "source": [
    "En base a la información del DataFrame, podemos ver que existen 14 columnas en total.\n",
    "Nuestra variable dependiente es \"NoShow\" y las demás columnas son nuestras variales independientes\n",
    "\n",
    "Limpiaremos el DF de \"PatientID\" y \"AppointmentID\" que no nos aportan información útil para el análsis."
   ]
  },
  {
   "cell_type": "code",
   "execution_count": null,
   "id": "4410dadc",
   "metadata": {},
   "outputs": [],
   "source": [
    "# Haremos drop a variables \"PatientID\" y \"AppointmentID\" puesto que son sólo números que se les asignó a cada usuario y cita\n",
    "\n",
    "nsp.drop([\"PatientId\", \"AppointmentID\"], axis=1, inplace=True)      #Ocupamos inplace=True para modificar el DF original"
   ]
  },
  {
   "cell_type": "code",
   "execution_count": 47,
   "id": "9747e808",
   "metadata": {},
   "outputs": [
    {
     "name": "stdout",
     "output_type": "stream",
     "text": [
      "\n",
      "Valores nulos, (si es que los hay)\n",
      "Series([], dtype: int64)\n",
      "\n",
      "Valores unicos por columna:\n",
      "ScheduledDay      111\n",
      "Age               104\n",
      "Neighbourhood      81\n",
      "AppointmentDay     27\n",
      "Handicap            5\n",
      "Gender              2\n",
      "Hipertension        2\n",
      "Scholarship         2\n",
      "Diabetes            2\n",
      "Alcoholism          2\n",
      "SMSReceived         2\n",
      "NoShow              2\n",
      "dtype: int64\n"
     ]
    }
   ],
   "source": [
    "# Se chequean datos faltantes en cada columna\n",
    "nulos = nsp.isnull().sum()\n",
    "nulos = nulos[nulos > 0]\n",
    "print(\"\\nValores nulos, (si es que los hay)\")\n",
    "print(nulos)\n",
    "\n",
    "# Se chequean valores unicos\n",
    "valores_unicos = nsp.nunique().sort_values(ascending=False)\n",
    "print(\"\\nValores unicos por columna:\")\n",
    "print(valores_unicos)"
   ]
  },
  {
   "cell_type": "code",
   "execution_count": 50,
   "id": "549d2897",
   "metadata": {},
   "outputs": [
    {
     "name": "stdout",
     "output_type": "stream",
     "text": [
      "Valores únicos en 'Gender' ==> ['F' 'M']\n",
      "Valores únicos en 'Handicap' ==> [0 1 2 3 4]\n",
      "Valores únicos en 'Scholarship' ==> [0 1]\n",
      "Valores únicos en 'Hipertension' ==> [1 0]\n",
      "Valores únicos en 'Diabetes' ==> [0 1]\n",
      "Valores únicos en 'Alcoholism' ==> [0 1]\n",
      "Valores únicos en 'SMSReceived' ==> [0 1]\n",
      "Valores únicos en 'NoShow' ==> ['No' 'Yes']\n"
     ]
    }
   ],
   "source": [
    "# Se exploran los valores únicos de cada columna\n",
    "\n",
    "print(\"Valores únicos en 'Gender' ==> {}\".format(nsp.Gender.unique()))\n",
    "print(\"Valores únicos en 'Handicap' ==> {}\".format(nsp.Handicap.unique()))\n",
    "print(\"Valores únicos en 'Scholarship' ==> {}\".format(nsp.Scholarship.unique()))\n",
    "print(\"Valores únicos en 'Hipertension' ==> {}\".format(nsp.Hipertension.unique()))\n",
    "print(\"Valores únicos en 'Diabetes' ==> {}\".format(nsp.Diabetes.unique()))\n",
    "print(\"Valores únicos en 'Alcoholism' ==> {}\".format(nsp.Alcoholism.unique()))\n",
    "print(\"Valores únicos en 'SMSReceived' ==> {}\".format(nsp.SMSReceived.unique()))\n",
    "print(\"Valores únicos en 'NoShow' ==> {}\".format(nsp.NoShow.unique()))"
   ]
  },
  {
   "cell_type": "markdown",
   "id": "0bfd4ce0",
   "metadata": {},
   "source": [
    "Vemos que 'gender' tiene valores de 'F' y 'M',\n",
    "'handicap' puede tomar 5 valores,\n",
    "el resto de variables pueden tomar valores de 1s y 0s que representan si tiene o no la enfermedad o si recibió el mensaje o no, es decir son variables categoricas y no numéricas. Motivo por el cual cambiaremos a object con el fin de evitar aplicar operaciones matemáticas o que se realicen cálculos con estos valores."
   ]
  },
  {
   "cell_type": "code",
   "execution_count": 54,
   "id": "f494ba86",
   "metadata": {},
   "outputs": [
    {
     "name": "stdout",
     "output_type": "stream",
     "text": [
      "<class 'pandas.core.frame.DataFrame'>\n",
      "RangeIndex: 110527 entries, 0 to 110526\n",
      "Data columns (total 12 columns):\n",
      " #   Column          Non-Null Count   Dtype         \n",
      "---  ------          --------------   -----         \n",
      " 0   Gender          110527 non-null  object        \n",
      " 1   ScheduledDay    110527 non-null  datetime64[ns]\n",
      " 2   AppointmentDay  110527 non-null  datetime64[ns]\n",
      " 3   Age             110527 non-null  int64         \n",
      " 4   Neighbourhood   110527 non-null  object        \n",
      " 5   Scholarship     110527 non-null  object        \n",
      " 6   Hipertension    110527 non-null  object        \n",
      " 7   Diabetes        110527 non-null  object        \n",
      " 8   Alcoholism      110527 non-null  object        \n",
      " 9   Handicap        110527 non-null  object        \n",
      " 10  SMSReceived     110527 non-null  object        \n",
      " 11  NoShow          110527 non-null  object        \n",
      "dtypes: datetime64[ns](2), int64(1), object(9)\n",
      "memory usage: 10.1+ MB\n"
     ]
    }
   ],
   "source": [
    "nsp[\"Scholarship\"] = nsp[\"Scholarship\"].astype(\"object\")\n",
    "nsp[\"Hipertension\"] = nsp[\"Hipertension\"].astype(\"object\")\n",
    "nsp[\"Diabetes\"] = nsp[\"Diabetes\"].astype(\"object\")\n",
    "nsp[\"Alcoholism\"] = nsp[\"Alcoholism\"].astype(\"object\")\n",
    "nsp[\"Handicap\"] = nsp[\"Handicap\"].astype(\"object\")\n",
    "nsp[\"SMSReceived\"] = nsp[\"SMSReceived\"].astype(\"object\")\n",
    "\n",
    "# Evaluamos el cambio realizado\n",
    "nsp.info()"
   ]
  },
  {
   "cell_type": "code",
   "execution_count": 69,
   "id": "e76f42a1",
   "metadata": {},
   "outputs": [
    {
     "name": "stdout",
     "output_type": "stream",
     "text": [
      "Valores únicos en 'Edad': [ -1   0   1   2   3   4   5   6   7   8   9  10  11  12  13  14  15  16\n",
      "  17  18  19  20  21  22  23  24  25  26  27  28  29  30  31  32  33  34\n",
      "  35  36  37  38  39  40  41  42  43  44  45  46  47  48  49  50  51  52\n",
      "  53  54  55  56  57  58  59  60  61  62  63  64  65  66  67  68  69  70\n",
      "  71  72  73  74  75  76  77  78  79  80  81  82  83  84  85  86  87  88\n",
      "  89  90  91  92  93  94  95  96  97  98  99 100 102 115]\n"
     ]
    }
   ],
   "source": [
    "# Revisaremos los valores de la columna \"Age\"\n",
    "print(\"Valores únicos en 'Edad': {}\".format(np.sort(nsp.Age.unique())))"
   ]
  },
  {
   "cell_type": "markdown",
   "id": "0c3857b1",
   "metadata": {},
   "source": [
    "Observamos que hay una edad -1, lo cual no tiene sentido, por lo que eliminaremos."
   ]
  },
  {
   "cell_type": "code",
   "execution_count": 77,
   "id": "0c30a65d",
   "metadata": {},
   "outputs": [
    {
     "name": "stdout",
     "output_type": "stream",
     "text": [
      "Usuarios con Edad -1: 0\n",
      "Usuarios con Edad 0: 3539\n"
     ]
    }
   ],
   "source": [
    "# Veamos la cantidad de personas con edad -1 y 0\n",
    "print(\"Usuarios con Edad -1: {}\".format(nsp[nsp.Age == -1].shape[0]))\n",
    "print(\"Usuarios con Edad 0: {}\".format(nsp[nsp.Age == 0].shape[0]))\n",
    "\n",
    "# Sólo hay un paciente con edad -1\n",
    "nsp = nsp[nsp.Age >= 0]"
   ]
  },
  {
   "cell_type": "code",
   "execution_count": null,
   "id": "747cb3aa",
   "metadata": {},
   "outputs": [
    {
     "data": {
      "text/html": [
       "<div>\n",
       "<style scoped>\n",
       "    .dataframe tbody tr th:only-of-type {\n",
       "        vertical-align: middle;\n",
       "    }\n",
       "\n",
       "    .dataframe tbody tr th {\n",
       "        vertical-align: top;\n",
       "    }\n",
       "\n",
       "    .dataframe thead th {\n",
       "        text-align: right;\n",
       "    }\n",
       "</style>\n",
       "<table border=\"1\" class=\"dataframe\">\n",
       "  <thead>\n",
       "    <tr style=\"text-align: right;\">\n",
       "      <th></th>\n",
       "      <th>Gender</th>\n",
       "      <th>ScheduledDay</th>\n",
       "      <th>AppointmentDay</th>\n",
       "      <th>Age</th>\n",
       "      <th>Neighbourhood</th>\n",
       "      <th>Scholarship</th>\n",
       "      <th>Hipertension</th>\n",
       "      <th>Diabetes</th>\n",
       "      <th>Alcoholism</th>\n",
       "      <th>Handicap</th>\n",
       "      <th>SMSReceived</th>\n",
       "      <th>NoShow</th>\n",
       "    </tr>\n",
       "  </thead>\n",
       "  <tbody>\n",
       "  </tbody>\n",
       "</table>\n",
       "</div>"
      ],
      "text/plain": [
       "Empty DataFrame\n",
       "Columns: [Gender, ScheduledDay, AppointmentDay, Age, Neighbourhood, Scholarship, Hipertension, Diabetes, Alcoholism, Handicap, SMSReceived, NoShow]\n",
       "Index: []"
      ]
     },
     "execution_count": 78,
     "metadata": {},
     "output_type": "execute_result"
    }
   ],
   "source": [
    "# Revisemos si aquellos con edad 0, poseen alguna enfermedad crónica (HTA, DM2, Alcoholismo),\n",
    "# asumiendo que son bebés y que no poseen estas enfermedades\n",
    "# Si se presenta vacío, se confirma que son bebés y no errores.\n",
    "\n",
    "nsp[(nsp.Age <= 0) & ((nsp.Hipertension.astype(int) == 1) | (nsp.Diabetes.astype(int) == 1) | (nsp.Alcoholism.astype(int) == 1))]"
   ]
  },
  {
   "cell_type": "code",
   "execution_count": null,
   "id": "65568449",
   "metadata": {},
   "outputs": [],
   "source": []
  }
 ],
 "metadata": {
  "kernelspec": {
   "display_name": "CBL",
   "language": "python",
   "name": "python3"
  },
  "language_info": {
   "codemirror_mode": {
    "name": "ipython",
    "version": 3
   },
   "file_extension": ".py",
   "mimetype": "text/x-python",
   "name": "python",
   "nbconvert_exporter": "python",
   "pygments_lexer": "ipython3",
   "version": "3.13.5"
  }
 },
 "nbformat": 4,
 "nbformat_minor": 5
}
